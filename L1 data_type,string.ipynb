{
 "cells": [
  {
   "cell_type": "code",
   "execution_count": null,
   "id": "a1c847fa-e5bf-4ff6-b6cf-60e68727620b",
   "metadata": {},
   "outputs": [],
   "source": [
    "# I AM LEARNING \"DATA SCIENCE\" COURSE"
   ]
  },
  {
   "cell_type": "code",
   "execution_count": null,
   "id": "e9f3a6fb-7376-45f5-8955-02dac924c038",
   "metadata": {},
   "outputs": [],
   "source": [
    "# THIS IS MY FIRST CLASS OF \"PYTHON\""
   ]
  },
  {
   "cell_type": "code",
   "execution_count": null,
   "id": "4d9f3b1e-19c1-48f6-9fbb-27e02f4c2854",
   "metadata": {},
   "outputs": [],
   "source": []
  },
  {
   "cell_type": "code",
   "execution_count": 1,
   "id": "3e560f08-5964-4a82-b646-1b6d959a0310",
   "metadata": {},
   "outputs": [
    {
     "name": "stdout",
     "output_type": "stream",
     "text": [
      "hello\n"
     ]
    }
   ],
   "source": [
    "print(\"hello\")"
   ]
  },
  {
   "cell_type": "code",
   "execution_count": 2,
   "id": "6e3becf7-034f-49bb-b0bd-cd560243f6de",
   "metadata": {},
   "outputs": [
    {
     "name": "stdout",
     "output_type": "stream",
     "text": [
      "hello\n"
     ]
    }
   ],
   "source": [
    "print(\"hello\")"
   ]
  },
  {
   "cell_type": "code",
   "execution_count": 1,
   "id": "02ac04bc-2679-4224-9d40-24afaa6158a4",
   "metadata": {},
   "outputs": [
    {
     "name": "stdout",
     "output_type": "stream",
     "text": [
      "hlw\n"
     ]
    }
   ],
   "source": [
    "print(\"hlw\")"
   ]
  },
  {
   "cell_type": "code",
   "execution_count": 2,
   "id": "f79e4096-b06f-4362-b999-8ac3b95748c0",
   "metadata": {},
   "outputs": [
    {
     "name": "stdout",
     "output_type": "stream",
     "text": [
      "hlo\n"
     ]
    }
   ],
   "source": [
    "print(\"hlo\")"
   ]
  },
  {
   "cell_type": "code",
   "execution_count": 3,
   "id": "5d5d47b5-650d-4515-8c31-b310b1ed1ef7",
   "metadata": {},
   "outputs": [
    {
     "name": "stdout",
     "output_type": "stream",
     "text": [
      "10\n"
     ]
    }
   ],
   "source": [
    "a=10\n",
    "print(a)"
   ]
  },
  {
   "cell_type": "code",
   "execution_count": 4,
   "id": "3f7b3fb6-2e5d-4bce-9f9d-169936ed794e",
   "metadata": {},
   "outputs": [
    {
     "data": {
      "text/plain": [
       "25"
      ]
     },
     "execution_count": 4,
     "metadata": {},
     "output_type": "execute_result"
    }
   ],
   "source": [
    "5*5"
   ]
  },
  {
   "cell_type": "code",
   "execution_count": 5,
   "id": "a608be9a-a08f-4c34-adf6-2adfc3e54147",
   "metadata": {},
   "outputs": [
    {
     "data": {
      "text/plain": [
       "20"
      ]
     },
     "execution_count": 5,
     "metadata": {},
     "output_type": "execute_result"
    }
   ],
   "source": [
    "a=20\n",
    "a"
   ]
  },
  {
   "cell_type": "code",
   "execution_count": null,
   "id": "950d0538-c059-411d-b1d7-3b52555648e9",
   "metadata": {},
   "outputs": [],
   "source": []
  },
  {
   "cell_type": "code",
   "execution_count": null,
   "id": "1ba0f91b-1421-4794-8d78-d4c068d5c912",
   "metadata": {},
   "outputs": [],
   "source": [
    "# TYPE() FUNCTION AND DATA TYPES (INT,FLOAT,STRING,BOOL,COMPLEX)"
   ]
  },
  {
   "cell_type": "code",
   "execution_count": null,
   "id": "7f968dc4-3349-40c1-8064-c3b8ab43b0b7",
   "metadata": {},
   "outputs": [],
   "source": []
  },
  {
   "cell_type": "code",
   "execution_count": 6,
   "id": "b7361adb-b1fa-4435-ab7d-f963e5b48a5e",
   "metadata": {},
   "outputs": [
    {
     "data": {
      "text/plain": [
       "int"
      ]
     },
     "execution_count": 6,
     "metadata": {},
     "output_type": "execute_result"
    }
   ],
   "source": [
    "type(a)"
   ]
  },
  {
   "cell_type": "code",
   "execution_count": 7,
   "id": "9b34f1f0-7d0a-4e20-a770-82d9c5762878",
   "metadata": {},
   "outputs": [
    {
     "data": {
      "text/plain": [
       "int"
      ]
     },
     "execution_count": 7,
     "metadata": {},
     "output_type": "execute_result"
    }
   ],
   "source": [
    "sudh=10\n",
    "type(sudh)\n"
   ]
  },
  {
   "cell_type": "code",
   "execution_count": 8,
   "id": "f3ac0187-18c5-4ffe-b2f5-9725de651fe5",
   "metadata": {},
   "outputs": [
    {
     "ename": "SyntaxError",
     "evalue": "incomplete input (3737724624.py, line 1)",
     "output_type": "error",
     "traceback": [
      "\u001b[0;36m  Cell \u001b[0;32mIn[8], line 1\u001b[0;36m\u001b[0m\n\u001b[0;31m    type(sudh\u001b[0m\n\u001b[0m             ^\u001b[0m\n\u001b[0;31mSyntaxError\u001b[0m\u001b[0;31m:\u001b[0m incomplete input\n"
     ]
    }
   ],
   "source": [
    "type(sudh"
   ]
  },
  {
   "cell_type": "code",
   "execution_count": 9,
   "id": "0d9d069c-4905-49e4-9772-a99e33b184a0",
   "metadata": {},
   "outputs": [
    {
     "data": {
      "text/plain": [
       "float"
      ]
     },
     "execution_count": 9,
     "metadata": {},
     "output_type": "execute_result"
    }
   ],
   "source": [
    "b=2.09\n",
    "type(b)"
   ]
  },
  {
   "cell_type": "code",
   "execution_count": 10,
   "id": "76de4e25-f321-490e-a2b5-84c588b22fc0",
   "metadata": {},
   "outputs": [
    {
     "data": {
      "text/plain": [
       "float"
      ]
     },
     "execution_count": 10,
     "metadata": {},
     "output_type": "execute_result"
    }
   ],
   "source": [
    "c=45.395\n",
    "type(c)"
   ]
  },
  {
   "cell_type": "code",
   "execution_count": 11,
   "id": "73db1da1-8e71-4ec6-87db-0277121d4f10",
   "metadata": {},
   "outputs": [
    {
     "data": {
      "text/plain": [
       "str"
      ]
     },
     "execution_count": 11,
     "metadata": {},
     "output_type": "execute_result"
    }
   ],
   "source": [
    "d=\"Navneet\"\n",
    "type(d)"
   ]
  },
  {
   "cell_type": "code",
   "execution_count": 12,
   "id": "72191234-654e-4035-ab79-29aeb448f3ac",
   "metadata": {},
   "outputs": [
    {
     "data": {
      "text/plain": [
       "str"
      ]
     },
     "execution_count": 12,
     "metadata": {},
     "output_type": "execute_result"
    }
   ],
   "source": [
    "e=\"this is my first  class\"\n",
    "type(e)"
   ]
  },
  {
   "cell_type": "code",
   "execution_count": 13,
   "id": "160a9cf0-2546-4f75-9762-e2b9255fca07",
   "metadata": {},
   "outputs": [
    {
     "ename": "SyntaxError",
     "evalue": "unterminated string literal (detected at line 1) (1529909893.py, line 1)",
     "output_type": "error",
     "traceback": [
      "\u001b[0;36m  Cell \u001b[0;32mIn[13], line 1\u001b[0;36m\u001b[0m\n\u001b[0;31m    e=this is my first class\"\u001b[0m\n\u001b[0m                            ^\u001b[0m\n\u001b[0;31mSyntaxError\u001b[0m\u001b[0;31m:\u001b[0m unterminated string literal (detected at line 1)\n"
     ]
    }
   ],
   "source": [
    "e=this is my first class\"\n",
    "type(e)"
   ]
  },
  {
   "cell_type": "code",
   "execution_count": 14,
   "id": "2178eef1-0751-4b4b-b06e-93892801f9c8",
   "metadata": {},
   "outputs": [
    {
     "data": {
      "text/plain": [
       "bool"
      ]
     },
     "execution_count": 14,
     "metadata": {},
     "output_type": "execute_result"
    }
   ],
   "source": [
    "n=True\n",
    "type(n)"
   ]
  },
  {
   "cell_type": "code",
   "execution_count": 15,
   "id": "d5df5f87-b571-4e09-93f2-76d6fdc637f0",
   "metadata": {},
   "outputs": [
    {
     "data": {
      "text/plain": [
       "bool"
      ]
     },
     "execution_count": 15,
     "metadata": {},
     "output_type": "execute_result"
    }
   ],
   "source": [
    "m=False\n",
    "type(m)"
   ]
  },
  {
   "cell_type": "code",
   "execution_count": 16,
   "id": "713fb11c-ba87-4daa-8248-14d636e4765c",
   "metadata": {},
   "outputs": [
    {
     "data": {
      "text/plain": [
       "1"
      ]
     },
     "execution_count": 16,
     "metadata": {},
     "output_type": "execute_result"
    }
   ],
   "source": [
    "n+m"
   ]
  },
  {
   "cell_type": "code",
   "execution_count": 17,
   "id": "14b3c851-f718-4dc5-8477-8a2af7763e1e",
   "metadata": {},
   "outputs": [
    {
     "data": {
      "text/plain": [
       "2"
      ]
     },
     "execution_count": 17,
     "metadata": {},
     "output_type": "execute_result"
    }
   ],
   "source": [
    "n+n"
   ]
  },
  {
   "cell_type": "code",
   "execution_count": 18,
   "id": "44a58a7b-4a42-44d5-b852-66b8535e9b91",
   "metadata": {},
   "outputs": [
    {
     "data": {
      "text/plain": [
       "0"
      ]
     },
     "execution_count": 18,
     "metadata": {},
     "output_type": "execute_result"
    }
   ],
   "source": [
    "m+m"
   ]
  },
  {
   "cell_type": "code",
   "execution_count": 19,
   "id": "ca354429-65b2-4673-a833-b670254b8610",
   "metadata": {},
   "outputs": [
    {
     "data": {
      "text/plain": [
       "1"
      ]
     },
     "execution_count": 19,
     "metadata": {},
     "output_type": "execute_result"
    }
   ],
   "source": [
    "True*True"
   ]
  },
  {
   "cell_type": "code",
   "execution_count": 20,
   "id": "943086c8-18e3-4598-b279-64c0d28ba485",
   "metadata": {},
   "outputs": [
    {
     "data": {
      "text/plain": [
       "0"
      ]
     },
     "execution_count": 20,
     "metadata": {},
     "output_type": "execute_result"
    }
   ],
   "source": [
    "True*False"
   ]
  },
  {
   "cell_type": "code",
   "execution_count": 23,
   "id": "1bfe3b67-9be0-4cb7-9a92-fe996c6c0872",
   "metadata": {},
   "outputs": [
    {
     "ename": "ZeroDivisionError",
     "evalue": "division by zero",
     "output_type": "error",
     "traceback": [
      "\u001b[0;31m---------------------------------------------------------------------------\u001b[0m",
      "\u001b[0;31mZeroDivisionError\u001b[0m                         Traceback (most recent call last)",
      "Cell \u001b[0;32mIn[23], line 1\u001b[0m\n\u001b[0;32m----> 1\u001b[0m \u001b[38;5;28;43;01mTrue\u001b[39;49;00m\u001b[38;5;241;43m/\u001b[39;49m\u001b[38;5;28;43;01mFalse\u001b[39;49;00m \u001b[38;5;66;03m# =1/0 result= error in core python but in numpy its result is inf\u001b[39;00m\n",
      "\u001b[0;31mZeroDivisionError\u001b[0m: division by zero"
     ]
    }
   ],
   "source": [
    "True/False # =1/0 result= error in core python but in numpy its result is inf"
   ]
  },
  {
   "cell_type": "code",
   "execution_count": 22,
   "id": "d1a66270-8cc5-4c55-873c-44426b3400e2",
   "metadata": {},
   "outputs": [
    {
     "ename": "ZeroDivisionError",
     "evalue": "division by zero",
     "output_type": "error",
     "traceback": [
      "\u001b[0;31m---------------------------------------------------------------------------\u001b[0m",
      "\u001b[0;31mZeroDivisionError\u001b[0m                         Traceback (most recent call last)",
      "Cell \u001b[0;32mIn[22], line 1\u001b[0m\n\u001b[0;32m----> 1\u001b[0m \u001b[38;5;241;43m1\u001b[39;49m\u001b[38;5;241;43m/\u001b[39;49m\u001b[38;5;241;43m0\u001b[39;49m\n",
      "\u001b[0;31mZeroDivisionError\u001b[0m: division by zero"
     ]
    }
   ],
   "source": [
    "1/0"
   ]
  },
  {
   "cell_type": "code",
   "execution_count": null,
   "id": "4a1fc847-22df-40ff-ab3a-b5e6723ef087",
   "metadata": {},
   "outputs": [],
   "source": []
  },
  {
   "cell_type": "code",
   "execution_count": 24,
   "id": "0e6ab138-fb5c-4ed1-9070-7216c155a912",
   "metadata": {},
   "outputs": [],
   "source": [
    "# COMPLEX VARIABLE"
   ]
  },
  {
   "cell_type": "code",
   "execution_count": null,
   "id": "6ad47029-c76c-4521-9929-a08408fe992d",
   "metadata": {},
   "outputs": [],
   "source": []
  },
  {
   "cell_type": "code",
   "execution_count": 27,
   "id": "d610211c-7b39-4100-aba1-d4234afd0969",
   "metadata": {},
   "outputs": [
    {
     "data": {
      "text/plain": [
       "complex"
      ]
     },
     "execution_count": 27,
     "metadata": {},
     "output_type": "execute_result"
    }
   ],
   "source": [
    "v=2+2j\n",
    "type(v)"
   ]
  },
  {
   "cell_type": "code",
   "execution_count": 28,
   "id": "b971ef25-1cd5-4de8-954f-3687d7e97a6c",
   "metadata": {},
   "outputs": [
    {
     "ename": "SyntaxError",
     "evalue": "invalid decimal literal (1895769562.py, line 1)",
     "output_type": "error",
     "traceback": [
      "\u001b[0;36m  Cell \u001b[0;32mIn[28], line 1\u001b[0;36m\u001b[0m\n\u001b[0;31m    v=5+3i\u001b[0m\n\u001b[0m        ^\u001b[0m\n\u001b[0;31mSyntaxError\u001b[0m\u001b[0;31m:\u001b[0m invalid decimal literal\n"
     ]
    }
   ],
   "source": [
    "f=5+3i    # IN python only \"j\" is used in imaginary component \n",
    "type(f)"
   ]
  },
  {
   "cell_type": "code",
   "execution_count": 29,
   "id": "25729f2d-8202-429d-af24-bbc2f80ab3ab",
   "metadata": {},
   "outputs": [
    {
     "data": {
      "text/plain": [
       "complex"
      ]
     },
     "execution_count": 29,
     "metadata": {},
     "output_type": "execute_result"
    }
   ],
   "source": [
    "v=2+3j\n",
    "type(v)    #to know the functionality of the function press \"shift + tab\" "
   ]
  },
  {
   "cell_type": "code",
   "execution_count": 30,
   "id": "85ec9bfa-1cfd-45a8-a085-ad75bd194d3e",
   "metadata": {},
   "outputs": [
    {
     "data": {
      "text/plain": [
       "2.0"
      ]
     },
     "execution_count": 30,
     "metadata": {},
     "output_type": "execute_result"
    }
   ],
   "source": [
    "v.real"
   ]
  },
  {
   "cell_type": "code",
   "execution_count": 31,
   "id": "dc19a54b-9d0e-4d8c-b6f6-f6592e4e4596",
   "metadata": {},
   "outputs": [
    {
     "ename": "AttributeError",
     "evalue": "'complex' object has no attribute 'img'",
     "output_type": "error",
     "traceback": [
      "\u001b[0;31m---------------------------------------------------------------------------\u001b[0m",
      "\u001b[0;31mAttributeError\u001b[0m                            Traceback (most recent call last)",
      "Cell \u001b[0;32mIn[31], line 1\u001b[0m\n\u001b[0;32m----> 1\u001b[0m \u001b[43mv\u001b[49m\u001b[38;5;241;43m.\u001b[39;49m\u001b[43mimg\u001b[49m\n",
      "\u001b[0;31mAttributeError\u001b[0m: 'complex' object has no attribute 'img'"
     ]
    }
   ],
   "source": [
    "v.img"
   ]
  },
  {
   "cell_type": "code",
   "execution_count": 32,
   "id": "ebd08ca0-2636-4f8b-a00d-74e0804d8b6d",
   "metadata": {},
   "outputs": [
    {
     "data": {
      "text/plain": [
       "3.0"
      ]
     },
     "execution_count": 32,
     "metadata": {},
     "output_type": "execute_result"
    }
   ],
   "source": [
    "v.imag"
   ]
  },
  {
   "cell_type": "code",
   "execution_count": 33,
   "id": "a28f26fa-6ecf-4b8d-b38b-db66b080f19e",
   "metadata": {},
   "outputs": [
    {
     "data": {
      "text/plain": [
       "(2+3j)"
      ]
     },
     "execution_count": 33,
     "metadata": {},
     "output_type": "execute_result"
    }
   ],
   "source": [
    "v"
   ]
  },
  {
   "cell_type": "code",
   "execution_count": 34,
   "id": "299fe9f1-e127-4b45-9dfe-553076f9af57",
   "metadata": {},
   "outputs": [
    {
     "name": "stdout",
     "output_type": "stream",
     "text": [
      "my name is Navneet Singh\n"
     ]
    }
   ],
   "source": [
    "print(\"my name is Navneet Singh\")  #it print string in \"console\""
   ]
  },
  {
   "cell_type": "code",
   "execution_count": 35,
   "id": "8ff54b0c-5b39-4eeb-8e40-9f0e2f56e343",
   "metadata": {},
   "outputs": [
    {
     "name": "stdout",
     "output_type": "stream",
     "text": [
      "20\n"
     ]
    }
   ],
   "source": [
    "print(a)"
   ]
  },
  {
   "cell_type": "code",
   "execution_count": 36,
   "id": "b9f78e16-762b-40b8-8dc4-56488c623f3e",
   "metadata": {},
   "outputs": [
    {
     "name": "stdout",
     "output_type": "stream",
     "text": [
      "(2+3j)\n"
     ]
    }
   ],
   "source": [
    "print(v)"
   ]
  },
  {
   "cell_type": "code",
   "execution_count": null,
   "id": "d27b1a0e-9c2c-4466-9d04-e4ccdc555495",
   "metadata": {},
   "outputs": [],
   "source": []
  },
  {
   "cell_type": "code",
   "execution_count": null,
   "id": "517aa023-0d48-422d-832c-6121d71132e8",
   "metadata": {},
   "outputs": [],
   "source": [
    "# STRING SLICING"
   ]
  },
  {
   "cell_type": "code",
   "execution_count": null,
   "id": "acac10e6-dda0-4a7b-aa5d-06ae96ce125e",
   "metadata": {},
   "outputs": [],
   "source": []
  },
  {
   "cell_type": "code",
   "execution_count": 2,
   "id": "6dcce931-2eee-4726-9b6f-a74a26ed7446",
   "metadata": {},
   "outputs": [],
   "source": [
    "s=\"pwskills\""
   ]
  },
  {
   "cell_type": "code",
   "execution_count": 5,
   "id": "6d54c61e-82e5-494b-a7a6-b1435a478219",
   "metadata": {},
   "outputs": [
    {
     "data": {
      "text/plain": [
       "str"
      ]
     },
     "execution_count": 5,
     "metadata": {},
     "output_type": "execute_result"
    }
   ],
   "source": [
    "type(s)"
   ]
  },
  {
   "cell_type": "code",
   "execution_count": 39,
   "id": "f07f35aa-7c28-4256-b97d-e0fbebc4a1cc",
   "metadata": {},
   "outputs": [
    {
     "data": {
      "text/plain": [
       "'p'"
      ]
     },
     "execution_count": 39,
     "metadata": {},
     "output_type": "execute_result"
    }
   ],
   "source": [
    "s[0]"
   ]
  },
  {
   "cell_type": "code",
   "execution_count": 40,
   "id": "b8674df7-6eaf-4640-8944-adb2d599a46f",
   "metadata": {},
   "outputs": [
    {
     "data": {
      "text/plain": [
       "'s'"
      ]
     },
     "execution_count": 40,
     "metadata": {},
     "output_type": "execute_result"
    }
   ],
   "source": [
    "s[2]"
   ]
  },
  {
   "cell_type": "code",
   "execution_count": 41,
   "id": "27eeca09-30eb-47c5-80e2-8814d393bf6d",
   "metadata": {},
   "outputs": [
    {
     "data": {
      "text/plain": [
       "'k'"
      ]
     },
     "execution_count": 41,
     "metadata": {},
     "output_type": "execute_result"
    }
   ],
   "source": [
    "s[3]"
   ]
  },
  {
   "cell_type": "code",
   "execution_count": 42,
   "id": "0b4f9831-9dc1-43e5-8cac-0942d56296fd",
   "metadata": {},
   "outputs": [
    {
     "data": {
      "text/plain": [
       "'s'"
      ]
     },
     "execution_count": 42,
     "metadata": {},
     "output_type": "execute_result"
    }
   ],
   "source": [
    "s[-1]"
   ]
  },
  {
   "cell_type": "code",
   "execution_count": 43,
   "id": "9abf9675-afb1-4527-b293-f5d6c4e645c0",
   "metadata": {},
   "outputs": [
    {
     "data": {
      "text/plain": [
       "'p'"
      ]
     },
     "execution_count": 43,
     "metadata": {},
     "output_type": "execute_result"
    }
   ],
   "source": [
    "s[-8]"
   ]
  },
  {
   "cell_type": "code",
   "execution_count": 44,
   "id": "b7a349e2-a454-4133-9d43-30b9d1638938",
   "metadata": {},
   "outputs": [
    {
     "data": {
      "text/plain": [
       "'pws'"
      ]
     },
     "execution_count": 44,
     "metadata": {},
     "output_type": "execute_result"
    }
   ],
   "source": [
    "s[0:3]"
   ]
  },
  {
   "cell_type": "code",
   "execution_count": 45,
   "id": "fdc1e58e-3108-4871-b822-bd6daad4a5a6",
   "metadata": {},
   "outputs": [
    {
     "data": {
      "text/plain": [
       "'pwskills'"
      ]
     },
     "execution_count": 45,
     "metadata": {},
     "output_type": "execute_result"
    }
   ],
   "source": [
    "s[0:]"
   ]
  },
  {
   "cell_type": "code",
   "execution_count": 46,
   "id": "212e6592-d4f8-4d46-868c-0c7d4f7c9082",
   "metadata": {},
   "outputs": [
    {
     "data": {
      "text/plain": [
       "'pwskills'"
      ]
     },
     "execution_count": 46,
     "metadata": {},
     "output_type": "execute_result"
    }
   ],
   "source": [
    "s[:]"
   ]
  },
  {
   "cell_type": "code",
   "execution_count": 47,
   "id": "6a21d4d3-58fc-43c0-88fb-91576cdd93d8",
   "metadata": {},
   "outputs": [
    {
     "data": {
      "text/plain": [
       "'s'"
      ]
     },
     "execution_count": 47,
     "metadata": {},
     "output_type": "execute_result"
    }
   ],
   "source": [
    "s[-1:]"
   ]
  },
  {
   "cell_type": "code",
   "execution_count": 48,
   "id": "83c514ca-2f19-4177-bf2a-07fbdeddb94c",
   "metadata": {},
   "outputs": [],
   "source": [
    "#o/t  psil"
   ]
  },
  {
   "cell_type": "code",
   "execution_count": 50,
   "id": "ab0edcfb-d06f-4380-8493-8845400fdd84",
   "metadata": {},
   "outputs": [
    {
     "data": {
      "text/plain": [
       "'psil'"
      ]
     },
     "execution_count": 50,
     "metadata": {},
     "output_type": "execute_result"
    }
   ],
   "source": [
    "s[0:8:2]               #  s[first : last : jump]"
   ]
  },
  {
   "cell_type": "code",
   "execution_count": 51,
   "id": "2c1331f5-43a3-4ea9-97a3-a03692b2409e",
   "metadata": {},
   "outputs": [
    {
     "data": {
      "text/plain": [
       "'psil'"
      ]
     },
     "execution_count": 51,
     "metadata": {},
     "output_type": "execute_result"
    }
   ],
   "source": [
    "s[::2]"
   ]
  },
  {
   "cell_type": "code",
   "execution_count": 52,
   "id": "bbd2012f-c698-4dac-b4bb-52d9e26d3537",
   "metadata": {},
   "outputs": [
    {
     "data": {
      "text/plain": [
       "'sil'"
      ]
     },
     "execution_count": 52,
     "metadata": {},
     "output_type": "execute_result"
    }
   ],
   "source": [
    "s[2::2]"
   ]
  },
  {
   "cell_type": "code",
   "execution_count": 53,
   "id": "859c9929-3ce0-4bf2-9622-fec645e8bac8",
   "metadata": {},
   "outputs": [
    {
     "ename": "ValueError",
     "evalue": "slice step cannot be zero",
     "output_type": "error",
     "traceback": [
      "\u001b[0;31m---------------------------------------------------------------------------\u001b[0m",
      "\u001b[0;31mValueError\u001b[0m                                Traceback (most recent call last)",
      "Cell \u001b[0;32mIn[53], line 1\u001b[0m\n\u001b[0;32m----> 1\u001b[0m \u001b[43ms\u001b[49m\u001b[43m[\u001b[49m\u001b[43m:\u001b[49m\u001b[43m:\u001b[49m\u001b[38;5;241;43m0\u001b[39;49m\u001b[43m]\u001b[49m\n",
      "\u001b[0;31mValueError\u001b[0m: slice step cannot be zero"
     ]
    }
   ],
   "source": [
    "s[::0]      # slice step can't be zero"
   ]
  },
  {
   "cell_type": "code",
   "execution_count": 54,
   "id": "8df95a4d-64cd-4352-a72a-3d6cbe1bf941",
   "metadata": {},
   "outputs": [],
   "source": [
    "# print string in reverse direction"
   ]
  },
  {
   "cell_type": "code",
   "execution_count": 55,
   "id": "16c2f01e-5750-435c-9c77-0ada1afa3bd0",
   "metadata": {},
   "outputs": [
    {
     "data": {
      "text/plain": [
       "'sllikswp'"
      ]
     },
     "execution_count": 55,
     "metadata": {},
     "output_type": "execute_result"
    }
   ],
   "source": [
    "s[::-1]"
   ]
  },
  {
   "cell_type": "code",
   "execution_count": null,
   "id": "1089b461-737f-411e-992f-86900c5c389d",
   "metadata": {},
   "outputs": [],
   "source": []
  },
  {
   "cell_type": "code",
   "execution_count": 59,
   "id": "e53359c7-91e9-47ad-b6b9-6b3363ac3331",
   "metadata": {},
   "outputs": [],
   "source": [
    " # USE SCALE TECHNIQUE"
   ]
  },
  {
   "cell_type": "code",
   "execution_count": null,
   "id": "f09e9f65-9d10-457e-8204-b24a0c686b28",
   "metadata": {},
   "outputs": [],
   "source": []
  },
  {
   "cell_type": "code",
   "execution_count": 7,
   "id": "9f3dd85e-5922-4f62-bd7c-bec9d7129123",
   "metadata": {},
   "outputs": [
    {
     "data": {
      "text/plain": [
       "''"
      ]
     },
     "execution_count": 7,
     "metadata": {},
     "output_type": "execute_result"
    }
   ],
   "source": [
    "s[2:7:-1]      # moving towards positive index but jumping towards negative index"
   ]
  },
  {
   "cell_type": "code",
   "execution_count": 6,
   "id": "9bf02f75-4bf6-4c47-abdd-427e6412e262",
   "metadata": {},
   "outputs": [
    {
     "data": {
      "text/plain": [
       "''"
      ]
     },
     "execution_count": 6,
     "metadata": {},
     "output_type": "execute_result"
    }
   ],
   "source": [
    "s[8:0]     # moving towards negative index but jumping towards positive index"
   ]
  },
  {
   "cell_type": "code",
   "execution_count": 10,
   "id": "0bfe3204-9d82-457b-a95e-09579ca80b7b",
   "metadata": {},
   "outputs": [
    {
     "data": {
      "text/plain": [
       "'slliksw'"
      ]
     },
     "execution_count": 10,
     "metadata": {},
     "output_type": "execute_result"
    }
   ],
   "source": [
    "s[8:0:-1] #same as s[7:0:-1] this is correct"
   ]
  },
  {
   "cell_type": "code",
   "execution_count": 11,
   "id": "42676018-75f3-42a2-af7e-0649d2d05c74",
   "metadata": {},
   "outputs": [
    {
     "data": {
      "text/plain": [
       "''"
      ]
     },
     "execution_count": 11,
     "metadata": {},
     "output_type": "execute_result"
    }
   ],
   "source": [
    "s[8:-1:-1]"
   ]
  },
  {
   "cell_type": "code",
   "execution_count": 13,
   "id": "9765ad56-b729-4ec0-8758-ffae4830be26",
   "metadata": {},
   "outputs": [
    {
     "data": {
      "text/plain": [
       "'s'"
      ]
     },
     "execution_count": 13,
     "metadata": {},
     "output_type": "execute_result"
    }
   ],
   "source": [
    "s[8:-2:-1]  #same as s[7:-2:-1]"
   ]
  },
  {
   "cell_type": "code",
   "execution_count": 15,
   "id": "f2e966d2-8019-448a-a7c5-f8a05ca53f6f",
   "metadata": {},
   "outputs": [
    {
     "data": {
      "text/plain": [
       "'sl'"
      ]
     },
     "execution_count": 15,
     "metadata": {},
     "output_type": "execute_result"
    }
   ],
   "source": [
    "s[7:-3:-1]"
   ]
  },
  {
   "cell_type": "code",
   "execution_count": 16,
   "id": "24ee7ad3-993a-45db-92c0-41218a970d90",
   "metadata": {},
   "outputs": [
    {
     "data": {
      "text/plain": [
       "'slliksw'"
      ]
     },
     "execution_count": 16,
     "metadata": {},
     "output_type": "execute_result"
    }
   ],
   "source": [
    "s[7:0:-1]   #want print last word of string then last index remain unfill"
   ]
  },
  {
   "cell_type": "code",
   "execution_count": 17,
   "id": "e912fe92-9f0a-4e52-a812-0b02d79e760f",
   "metadata": {},
   "outputs": [
    {
     "data": {
      "text/plain": [
       "'sllikswp'"
      ]
     },
     "execution_count": 17,
     "metadata": {},
     "output_type": "execute_result"
    }
   ],
   "source": [
    "s[7::-1]"
   ]
  },
  {
   "cell_type": "code",
   "execution_count": 19,
   "id": "f2223f00-5580-4fc0-8d75-f5fb553a281c",
   "metadata": {},
   "outputs": [
    {
     "data": {
      "text/plain": [
       "''"
      ]
     },
     "execution_count": 19,
     "metadata": {},
     "output_type": "execute_result"
    }
   ],
   "source": [
    "s[-2:-8:1]  #move towards negative index but jump towars positive index"
   ]
  },
  {
   "cell_type": "code",
   "execution_count": 20,
   "id": "e95f2495-d2e9-4819-902a-4afee5c7f377",
   "metadata": {},
   "outputs": [
    {
     "data": {
      "text/plain": [
       "'llikswp'"
      ]
     },
     "execution_count": 20,
     "metadata": {},
     "output_type": "execute_result"
    }
   ],
   "source": [
    "s[-2::-1]"
   ]
  },
  {
   "cell_type": "code",
   "execution_count": 21,
   "id": "ae346579-106f-4d8a-bf8a-d61ffdb1a49f",
   "metadata": {},
   "outputs": [
    {
     "data": {
      "text/plain": [
       "'sllikswp'"
      ]
     },
     "execution_count": 21,
     "metadata": {},
     "output_type": "execute_result"
    }
   ],
   "source": [
    "s[::-1]"
   ]
  },
  {
   "cell_type": "code",
   "execution_count": 22,
   "id": "92823546-c99e-437e-b1b2-d8954fda2bb9",
   "metadata": {},
   "outputs": [
    {
     "data": {
      "text/plain": [
       "'slliksw'"
      ]
     },
     "execution_count": 22,
     "metadata": {},
     "output_type": "execute_result"
    }
   ],
   "source": [
    "s[:-8:-1]"
   ]
  },
  {
   "cell_type": "code",
   "execution_count": 23,
   "id": "33a12d2a-b3b3-4a9a-b7e5-75c467dceb16",
   "metadata": {},
   "outputs": [
    {
     "data": {
      "text/plain": [
       "'pwskills'"
      ]
     },
     "execution_count": 23,
     "metadata": {},
     "output_type": "execute_result"
    }
   ],
   "source": [
    "s[::]"
   ]
  },
  {
   "cell_type": "code",
   "execution_count": 24,
   "id": "e137e045-3f47-40ee-a134-7020583649c8",
   "metadata": {},
   "outputs": [
    {
     "data": {
      "text/plain": [
       "'pwskills'"
      ]
     },
     "execution_count": 24,
     "metadata": {},
     "output_type": "execute_result"
    }
   ],
   "source": [
    "s[:]   #same as above one"
   ]
  },
  {
   "cell_type": "code",
   "execution_count": 25,
   "id": "d1dcf7f4-5a66-4445-88dc-75f65dd5d494",
   "metadata": {},
   "outputs": [
    {
     "data": {
      "text/plain": [
       "'pwskills'"
      ]
     },
     "execution_count": 25,
     "metadata": {},
     "output_type": "execute_result"
    }
   ],
   "source": [
    "s[:90]"
   ]
  },
  {
   "cell_type": "code",
   "execution_count": 26,
   "id": "37c70da9-76a8-4722-b943-b73b589363bf",
   "metadata": {},
   "outputs": [
    {
     "ename": "IndexError",
     "evalue": "string index out of range",
     "output_type": "error",
     "traceback": [
      "\u001b[0;31m---------------------------------------------------------------------------\u001b[0m",
      "\u001b[0;31mIndexError\u001b[0m                                Traceback (most recent call last)",
      "Cell \u001b[0;32mIn[26], line 1\u001b[0m\n\u001b[0;32m----> 1\u001b[0m \u001b[43ms\u001b[49m\u001b[43m[\u001b[49m\u001b[38;5;241;43m90\u001b[39;49m\u001b[43m]\u001b[49m\n",
      "\u001b[0;31mIndexError\u001b[0m: string index out of range"
     ]
    }
   ],
   "source": [
    "s[90]   #indexing if elent is out of range from string it gives error"
   ]
  },
  {
   "cell_type": "code",
   "execution_count": 27,
   "id": "156db61b-e514-4dd2-a800-1610fb288cb7",
   "metadata": {},
   "outputs": [
    {
     "data": {
      "text/plain": [
       "''"
      ]
     },
     "execution_count": 27,
     "metadata": {},
     "output_type": "execute_result"
    }
   ],
   "source": [
    "s[:-90]   #slicing  if element is of range it does not give error"
   ]
  },
  {
   "cell_type": "code",
   "execution_count": 28,
   "id": "44a9068d-d784-4a56-b7a8-b12c680459c4",
   "metadata": {},
   "outputs": [
    {
     "data": {
      "text/plain": [
       "''"
      ]
     },
     "execution_count": 28,
     "metadata": {},
     "output_type": "execute_result"
    }
   ],
   "source": [
    "s[:90:-1]"
   ]
  },
  {
   "cell_type": "code",
   "execution_count": 29,
   "id": "38e61d94-c9c0-4b02-a4d3-910c126da272",
   "metadata": {},
   "outputs": [
    {
     "data": {
      "text/plain": [
       "'sllikswp'"
      ]
     },
     "execution_count": 29,
     "metadata": {},
     "output_type": "execute_result"
    }
   ],
   "source": [
    "s[:-90:-1]            "
   ]
  },
  {
   "cell_type": "code",
   "execution_count": 8,
   "id": "10fe86cd-7c97-44bd-b971-f56ea31c9929",
   "metadata": {},
   "outputs": [
    {
     "data": {
      "text/plain": [
       "'sllikswp'"
      ]
     },
     "execution_count": 8,
     "metadata": {},
     "output_type": "execute_result"
    }
   ],
   "source": [
    "s[:-9000:-1] #give same result as above one"
   ]
  },
  {
   "cell_type": "code",
   "execution_count": 30,
   "id": "55ad2abc-eb23-4259-8d58-e79800073e84",
   "metadata": {},
   "outputs": [
    {
     "data": {
      "text/plain": [
       "''"
      ]
     },
     "execution_count": 30,
     "metadata": {},
     "output_type": "execute_result"
    }
   ],
   "source": [
    "s[:90:-1]"
   ]
  },
  {
   "cell_type": "code",
   "execution_count": 4,
   "id": "3057f66d-70bc-4c80-b2f8-80006eeed5bb",
   "metadata": {},
   "outputs": [
    {
     "data": {
      "text/plain": [
       "''"
      ]
     },
     "execution_count": 4,
     "metadata": {},
     "output_type": "execute_result"
    }
   ],
   "source": [
    "s[:-90:1]  "
   ]
  },
  {
   "cell_type": "code",
   "execution_count": 5,
   "id": "9f4edacf-c4b8-426a-bf1f-7654b6e8960a",
   "metadata": {},
   "outputs": [
    {
     "data": {
      "text/plain": [
       "'pwskill'"
      ]
     },
     "execution_count": 5,
     "metadata": {},
     "output_type": "execute_result"
    }
   ],
   "source": [
    "s[-8:-1:1]"
   ]
  },
  {
   "cell_type": "code",
   "execution_count": 6,
   "id": "b923f490-ea21-44cd-ae3b-f432090c7b67",
   "metadata": {},
   "outputs": [
    {
     "data": {
      "text/plain": [
       "'pwskills'"
      ]
     },
     "execution_count": 6,
     "metadata": {},
     "output_type": "execute_result"
    }
   ],
   "source": [
    "s[-8::1]"
   ]
  },
  {
   "cell_type": "code",
   "execution_count": 7,
   "id": "ac7e7563-9a8a-4428-9d4c-cf2d0ad62f79",
   "metadata": {},
   "outputs": [
    {
     "data": {
      "text/plain": [
       "''"
      ]
     },
     "execution_count": 7,
     "metadata": {},
     "output_type": "execute_result"
    }
   ],
   "source": [
    "s[-8:0:1]"
   ]
  },
  {
   "cell_type": "code",
   "execution_count": null,
   "id": "c46981d8-bf83-4dfd-8458-d2a71f108f22",
   "metadata": {},
   "outputs": [],
   "source": []
  },
  {
   "cell_type": "code",
   "execution_count": null,
   "id": "0233a2ba-da13-482f-a513-c2c396427bd0",
   "metadata": {},
   "outputs": [],
   "source": [
    "# INTEGER CAN'T SLICE \n",
    "# because whole value of int is store on a particular index\n",
    "# but in string each character is stored in different index so slicing is possible in string"
   ]
  },
  {
   "cell_type": "code",
   "execution_count": null,
   "id": "3d59b725-af3a-48ed-bebe-88440a6cf761",
   "metadata": {},
   "outputs": [],
   "source": []
  },
  {
   "cell_type": "code",
   "execution_count": 9,
   "id": "87365849-1c9e-4bd2-a7e0-3e6ba9a95694",
   "metadata": {},
   "outputs": [],
   "source": [
    "# by converting int into string we can slice to integer"
   ]
  },
  {
   "cell_type": "code",
   "execution_count": 11,
   "id": "b8bf6e57-f26a-4de4-96e5-df1667ec7f72",
   "metadata": {},
   "outputs": [],
   "source": [
    "c=200"
   ]
  },
  {
   "cell_type": "code",
   "execution_count": null,
   "id": "67cb98fd-aad9-4ad1-ac88-179333af4d6c",
   "metadata": {},
   "outputs": [],
   "source": []
  },
  {
   "cell_type": "code",
   "execution_count": 13,
   "id": "583a7d68-f5f2-4d54-997c-374d83493339",
   "metadata": {},
   "outputs": [],
   "source": [
    "# STRING MANIPULATION"
   ]
  },
  {
   "cell_type": "code",
   "execution_count": null,
   "id": "656a3986-2251-40c1-ad82-cdd1774441d4",
   "metadata": {},
   "outputs": [],
   "source": []
  },
  {
   "cell_type": "code",
   "execution_count": 17,
   "id": "cbbb54c1-ca47-41ef-9ad6-83c31708e00a",
   "metadata": {},
   "outputs": [],
   "source": [
    "s1=\"this is my string class\""
   ]
  },
  {
   "cell_type": "code",
   "execution_count": 18,
   "id": "65c0392e-1213-4327-8cf9-4dbe3267e06c",
   "metadata": {},
   "outputs": [
    {
     "data": {
      "text/plain": [
       "23"
      ]
     },
     "execution_count": 18,
     "metadata": {},
     "output_type": "execute_result"
    }
   ],
   "source": [
    "len(s1)"
   ]
  },
  {
   "cell_type": "code",
   "execution_count": 19,
   "id": "f0aafcb0-5a37-4638-ba78-b269991d3dbe",
   "metadata": {},
   "outputs": [
    {
     "data": {
      "text/plain": [
       "3"
      ]
     },
     "execution_count": 19,
     "metadata": {},
     "output_type": "execute_result"
    }
   ],
   "source": [
    "s1.find('s')"
   ]
  },
  {
   "cell_type": "code",
   "execution_count": 20,
   "id": "0bd4df75-b07f-4ba7-9182-b9a223eedd0a",
   "metadata": {},
   "outputs": [
    {
     "data": {
      "text/plain": [
       "2"
      ]
     },
     "execution_count": 20,
     "metadata": {},
     "output_type": "execute_result"
    }
   ],
   "source": [
    "s1.find('i')"
   ]
  },
  {
   "cell_type": "code",
   "execution_count": 21,
   "id": "5950b421-87cb-4d87-b838-5cd77117269f",
   "metadata": {},
   "outputs": [
    {
     "data": {
      "text/plain": [
       "2"
      ]
     },
     "execution_count": 21,
     "metadata": {},
     "output_type": "execute_result"
    }
   ],
   "source": [
    "s1.find('is')"
   ]
  },
  {
   "cell_type": "code",
   "execution_count": 22,
   "id": "f8d3009a-791d-4bf8-9fe1-c9a7cc4fc9fb",
   "metadata": {},
   "outputs": [
    {
     "data": {
      "text/plain": [
       "-1"
      ]
     },
     "execution_count": 22,
     "metadata": {},
     "output_type": "execute_result"
    }
   ],
   "source": [
    "s1.find(\"iS\")    #find fun. fail its result is \"-1\""
   ]
  },
  {
   "cell_type": "code",
   "execution_count": 23,
   "id": "ed6a70d6-05dc-4da0-aca7-4848f210efcf",
   "metadata": {},
   "outputs": [
    {
     "data": {
      "text/plain": [
       "5"
      ]
     },
     "execution_count": 23,
     "metadata": {},
     "output_type": "execute_result"
    }
   ],
   "source": [
    "s1.count(\"s\")"
   ]
  },
  {
   "cell_type": "code",
   "execution_count": 24,
   "id": "577a40f1-4ab8-41a5-b5f5-e867eb998227",
   "metadata": {},
   "outputs": [
    {
     "data": {
      "text/plain": [
       "1"
      ]
     },
     "execution_count": 24,
     "metadata": {},
     "output_type": "execute_result"
    }
   ],
   "source": [
    "s1.count(\"st\")"
   ]
  },
  {
   "cell_type": "code",
   "execution_count": 25,
   "id": "de562afd-056c-47cc-be5a-7a7666846fe6",
   "metadata": {},
   "outputs": [
    {
     "data": {
      "text/plain": [
       "0"
      ]
     },
     "execution_count": 25,
     "metadata": {},
     "output_type": "execute_result"
    }
   ],
   "source": [
    "s1.count(\"z\")"
   ]
  },
  {
   "cell_type": "code",
   "execution_count": 26,
   "id": "01834160-af3e-460b-be22-8a05be21dda4",
   "metadata": {},
   "outputs": [
    {
     "data": {
      "text/plain": [
       "'this is my string class'"
      ]
     },
     "execution_count": 26,
     "metadata": {},
     "output_type": "execute_result"
    }
   ],
   "source": [
    "s1"
   ]
  },
  {
   "cell_type": "code",
   "execution_count": 27,
   "id": "3b443453-301a-4bcc-89ce-ed0c0d9e6946",
   "metadata": {},
   "outputs": [
    {
     "data": {
      "text/plain": [
       "'THIS IS MY STRING CLASS'"
      ]
     },
     "execution_count": 27,
     "metadata": {},
     "output_type": "execute_result"
    }
   ],
   "source": [
    "s1.upper()"
   ]
  },
  {
   "cell_type": "code",
   "execution_count": 29,
   "id": "e6d250c8-0a48-481a-8aa2-bf9af1866c05",
   "metadata": {},
   "outputs": [],
   "source": [
    "s2='THIS IS MY STRING CLASS'"
   ]
  },
  {
   "cell_type": "code",
   "execution_count": 30,
   "id": "309d111c-1071-4d5b-9736-fff855930d92",
   "metadata": {},
   "outputs": [
    {
     "data": {
      "text/plain": [
       "'this is my string class'"
      ]
     },
     "execution_count": 30,
     "metadata": {},
     "output_type": "execute_result"
    }
   ],
   "source": [
    "s2.lower()"
   ]
  },
  {
   "cell_type": "code",
   "execution_count": 31,
   "id": "14ddd7b6-1000-492b-b3d8-560371d0444b",
   "metadata": {},
   "outputs": [
    {
     "data": {
      "text/plain": [
       "'this is my string class'"
      ]
     },
     "execution_count": 31,
     "metadata": {},
     "output_type": "execute_result"
    }
   ],
   "source": [
    "s1"
   ]
  },
  {
   "cell_type": "code",
   "execution_count": 32,
   "id": "166a4826-adf6-4232-ad9e-ff956f915e76",
   "metadata": {},
   "outputs": [
    {
     "data": {
      "text/plain": [
       "'This Is My String Class'"
      ]
     },
     "execution_count": 32,
     "metadata": {},
     "output_type": "execute_result"
    }
   ],
   "source": [
    "s1.title()"
   ]
  },
  {
   "cell_type": "code",
   "execution_count": 33,
   "id": "da17cfdf-6d10-42cd-bee3-59b2048feedf",
   "metadata": {},
   "outputs": [
    {
     "data": {
      "text/plain": [
       "'This is my string class'"
      ]
     },
     "execution_count": 33,
     "metadata": {},
     "output_type": "execute_result"
    }
   ],
   "source": [
    "s1.capitalize()"
   ]
  },
  {
   "cell_type": "code",
   "execution_count": 34,
   "id": "1071bee2-1eb4-445a-a702-471233c92f5a",
   "metadata": {},
   "outputs": [
    {
     "data": {
      "text/plain": [
       "'pwskills'"
      ]
     },
     "execution_count": 34,
     "metadata": {},
     "output_type": "execute_result"
    }
   ],
   "source": [
    "s"
   ]
  },
  {
   "cell_type": "code",
   "execution_count": 35,
   "id": "7c525ead-0ebb-41c0-8ba8-64bc9301bb5d",
   "metadata": {},
   "outputs": [
    {
     "ename": "TypeError",
     "evalue": "can only concatenate str (not \"int\") to str",
     "output_type": "error",
     "traceback": [
      "\u001b[0;31m---------------------------------------------------------------------------\u001b[0m",
      "\u001b[0;31mTypeError\u001b[0m                                 Traceback (most recent call last)",
      "Cell \u001b[0;32mIn[35], line 1\u001b[0m\n\u001b[0;32m----> 1\u001b[0m \u001b[43ms\u001b[49m\u001b[38;5;241;43m+\u001b[39;49m\u001b[38;5;241;43m1\u001b[39;49m\n",
      "\u001b[0;31mTypeError\u001b[0m: can only concatenate str (not \"int\") to str"
     ]
    }
   ],
   "source": [
    "s+1"
   ]
  },
  {
   "cell_type": "code",
   "execution_count": 36,
   "id": "031d4023-0999-45ff-a1dc-636ccc4f38c5",
   "metadata": {},
   "outputs": [
    {
     "data": {
      "text/plain": [
       "'pwskillsnavneet'"
      ]
     },
     "execution_count": 36,
     "metadata": {},
     "output_type": "execute_result"
    }
   ],
   "source": [
    "s+ \"navneet\""
   ]
  },
  {
   "cell_type": "code",
   "execution_count": 38,
   "id": "f3a92e07-db8a-4eac-80d0-63dc08f2c9bd",
   "metadata": {},
   "outputs": [
    {
     "data": {
      "text/plain": [
       "'pwskills1'"
      ]
     },
     "execution_count": 38,
     "metadata": {},
     "output_type": "execute_result"
    }
   ],
   "source": [
    "s+ \"1\""
   ]
  },
  {
   "cell_type": "code",
   "execution_count": 39,
   "id": "e102a93f-97bd-4789-8f73-d3fc3124b37d",
   "metadata": {},
   "outputs": [
    {
     "data": {
      "text/plain": [
       "'pwskills1'"
      ]
     },
     "execution_count": 39,
     "metadata": {},
     "output_type": "execute_result"
    }
   ],
   "source": [
    "s+ str(1)"
   ]
  },
  {
   "cell_type": "code",
   "execution_count": 40,
   "id": "9852699a-a586-4af9-877a-e22c068167c6",
   "metadata": {},
   "outputs": [
    {
     "data": {
      "text/plain": [
       "'pwskillspwskillspwskills'"
      ]
     },
     "execution_count": 40,
     "metadata": {},
     "output_type": "execute_result"
    }
   ],
   "source": [
    "s*3"
   ]
  },
  {
   "cell_type": "code",
   "execution_count": 42,
   "id": "9ec9dada-6dcd-465e-8f14-e8d7d1032811",
   "metadata": {},
   "outputs": [
    {
     "data": {
      "text/plain": [
       "'navneetnavneetnavneetnavneet'"
      ]
     },
     "execution_count": 42,
     "metadata": {},
     "output_type": "execute_result"
    }
   ],
   "source": [
    "\"navneet\"*4"
   ]
  },
  {
   "cell_type": "code",
   "execution_count": 43,
   "id": "2c4a9f39-02fa-41e7-b44c-15e26a90217d",
   "metadata": {},
   "outputs": [
    {
     "ename": "TypeError",
     "evalue": "unsupported operand type(s) for /: 'str' and 'int'",
     "output_type": "error",
     "traceback": [
      "\u001b[0;31m---------------------------------------------------------------------------\u001b[0m",
      "\u001b[0;31mTypeError\u001b[0m                                 Traceback (most recent call last)",
      "Cell \u001b[0;32mIn[43], line 1\u001b[0m\n\u001b[0;32m----> 1\u001b[0m \u001b[38;5;124;43m\"\u001b[39;49m\u001b[38;5;124;43mnavneet\u001b[39;49m\u001b[38;5;124;43m\"\u001b[39;49m\u001b[38;5;241;43m/\u001b[39;49m\u001b[38;5;241;43m4\u001b[39;49m\n",
      "\u001b[0;31mTypeError\u001b[0m: unsupported operand type(s) for /: 'str' and 'int'"
     ]
    }
   ],
   "source": [
    "\"navneet\"/4"
   ]
  },
  {
   "cell_type": "code",
   "execution_count": null,
   "id": "f1ad8071-e9d5-46c6-9aa3-89452af2dbe6",
   "metadata": {},
   "outputs": [],
   "source": [
    "# string only use (+,*) not the (-,/)"
   ]
  },
  {
   "cell_type": "code",
   "execution_count": 44,
   "id": "13a59f8f-086a-4ae9-8145-50f504dda904",
   "metadata": {},
   "outputs": [
    {
     "ename": "SyntaxError",
     "evalue": "unterminated string literal (detected at line 1) (3819220668.py, line 1)",
     "output_type": "error",
     "traceback": [
      "\u001b[0;36m  Cell \u001b[0;32mIn[44], line 1\u001b[0;36m\u001b[0m\n\u001b[0;31m    'don't do copy and paste'\u001b[0m\n\u001b[0m                            ^\u001b[0m\n\u001b[0;31mSyntaxError\u001b[0m\u001b[0;31m:\u001b[0m unterminated string literal (detected at line 1)\n"
     ]
    }
   ],
   "source": [
    "'don't do copy and paste'"
   ]
  },
  {
   "cell_type": "code",
   "execution_count": 45,
   "id": "77fd298d-e9fd-454c-bcc9-9e0408e5040d",
   "metadata": {},
   "outputs": [
    {
     "data": {
      "text/plain": [
       "\"don't do copy and paste\""
      ]
     },
     "execution_count": 45,
     "metadata": {},
     "output_type": "execute_result"
    }
   ],
   "source": [
    "\"don't do copy and paste\""
   ]
  },
  {
   "cell_type": "code",
   "execution_count": 46,
   "id": "a744981b-4068-4513-a173-b216753af397",
   "metadata": {},
   "outputs": [
    {
     "ename": "SyntaxError",
     "evalue": "invalid syntax (1831461186.py, line 1)",
     "output_type": "error",
     "traceback": [
      "\u001b[0;36m  Cell \u001b[0;32mIn[46], line 1\u001b[0;36m\u001b[0m\n\u001b[0;31m    This is my first class for programming\u001b[0m\n\u001b[0m               ^\u001b[0m\n\u001b[0;31mSyntaxError\u001b[0m\u001b[0;31m:\u001b[0m invalid syntax\n"
     ]
    }
   ],
   "source": [
    "This is my first class for programming"
   ]
  },
  {
   "cell_type": "code",
   "execution_count": 49,
   "id": "b80811e7-810a-41c1-a423-2f2c8616fe31",
   "metadata": {},
   "outputs": [
    {
     "data": {
      "text/plain": [
       "'I have learnt variable declaration , datatype,string , int ,boolean,complex number\\nI have seen some example of string slicing and indexing\\nI have gone through some of the string inbuilt function\\napart from that I am trying to practice in my system \\nbut some of us in our class are not executing code and still theuy are answering which is bad'"
      ]
     },
     "execution_count": 49,
     "metadata": {},
     "output_type": "execute_result"
    }
   ],
   "source": [
    "##comment\n",
    "#comment   ''' ansn''' multiple line comment\n",
    "\"\"\"I have learnt variable declaration , datatype,string , int ,boolean,complex number\n",
    "I have seen some example of string slicing and indexing\n",
    "I have gone through some of the string inbuilt function\n",
    "apart from that I am trying to practice in my system \n",
    "but some of us in our class are not executing code and still theuy are answering which is bad\"\"\""
   ]
  },
  {
   "cell_type": "code",
   "execution_count": 3,
   "id": "19d097ac-bf20-4b75-a323-118e15bc5a2f",
   "metadata": {},
   "outputs": [
    {
     "data": {
      "text/plain": [
       "'pwskills'"
      ]
     },
     "execution_count": 3,
     "metadata": {},
     "output_type": "execute_result"
    }
   ],
   "source": [
    "s"
   ]
  },
  {
   "cell_type": "code",
   "execution_count": 4,
   "id": "8ab76278-dba2-4638-a440-954afa3e59cb",
   "metadata": {},
   "outputs": [
    {
     "data": {
      "text/plain": [
       "'p'"
      ]
     },
     "execution_count": 4,
     "metadata": {},
     "output_type": "execute_result"
    }
   ],
   "source": [
    "s[-8::-1]"
   ]
  },
  {
   "cell_type": "code",
   "execution_count": 5,
   "id": "6dccbf29-f0b8-4dbc-b1c1-17c7a1cff670",
   "metadata": {},
   "outputs": [
    {
     "data": {
      "text/plain": [
       "'P'"
      ]
     },
     "execution_count": 5,
     "metadata": {},
     "output_type": "execute_result"
    }
   ],
   "source": [
    "s[-8::-1].upper()"
   ]
  },
  {
   "cell_type": "code",
   "execution_count": 6,
   "id": "72d037b9-fc0d-4fe8-bf4f-d9f15888dc86",
   "metadata": {},
   "outputs": [],
   "source": [
    "s=\"rohan\""
   ]
  },
  {
   "cell_type": "code",
   "execution_count": 7,
   "id": "4b085f41-a37d-42aa-b273-34f62f8d81a5",
   "metadata": {},
   "outputs": [
    {
     "data": {
      "text/plain": [
       "'rohan'"
      ]
     },
     "execution_count": 7,
     "metadata": {},
     "output_type": "execute_result"
    }
   ],
   "source": [
    "s"
   ]
  },
  {
   "cell_type": "code",
   "execution_count": 8,
   "id": "65e20b32-ab7f-4c85-901c-db11b8d0f6e8",
   "metadata": {},
   "outputs": [
    {
     "name": "stdout",
     "output_type": "stream",
     "text": [
      "rohan\n"
     ]
    }
   ],
   "source": [
    "print(s)"
   ]
  },
  {
   "cell_type": "code",
   "execution_count": 10,
   "id": "d478379f-9ec4-4dfc-bf54-d83adc27c5c0",
   "metadata": {},
   "outputs": [],
   "source": [
    "s=\"pwskills\""
   ]
  },
  {
   "cell_type": "code",
   "execution_count": 11,
   "id": "34b47654-cb80-481a-b7b4-f7800ebe2c24",
   "metadata": {},
   "outputs": [
    {
     "data": {
      "text/plain": [
       "'slliksw'"
      ]
     },
     "execution_count": 11,
     "metadata": {},
     "output_type": "execute_result"
    }
   ],
   "source": [
    "s[:-8:-1]"
   ]
  },
  {
   "cell_type": "code",
   "execution_count": 12,
   "id": "82316492-716f-4374-a50f-b36356b06ae5",
   "metadata": {},
   "outputs": [],
   "source": [
    "s=\"pwskills\\n\""
   ]
  },
  {
   "cell_type": "code",
   "execution_count": 13,
   "id": "5fe7a700-92aa-4cb8-8070-6b4a9ce83cde",
   "metadata": {},
   "outputs": [
    {
     "data": {
      "text/plain": [
       "'pwskills\\npwskills\\npwskills\\n'"
      ]
     },
     "execution_count": 13,
     "metadata": {},
     "output_type": "execute_result"
    }
   ],
   "source": [
    "s*3"
   ]
  },
  {
   "cell_type": "code",
   "execution_count": 14,
   "id": "01234bf3-95be-4188-b4a4-923726cb584c",
   "metadata": {},
   "outputs": [],
   "source": [
    "s=\"myskill\""
   ]
  },
  {
   "cell_type": "code",
   "execution_count": 15,
   "id": "0a5f946e-5374-4150-84f3-c133edfffb68",
   "metadata": {},
   "outputs": [
    {
     "data": {
      "text/plain": [
       "'liksym'"
      ]
     },
     "execution_count": 15,
     "metadata": {},
     "output_type": "execute_result"
    }
   ],
   "source": [
    "s[-2::-1]"
   ]
  },
  {
   "cell_type": "code",
   "execution_count": 19,
   "id": "530235e8-30f3-4f1e-b7dc-4f74ee9bda54",
   "metadata": {},
   "outputs": [],
   "source": [
    "s=\"pwskills\""
   ]
  },
  {
   "cell_type": "code",
   "execution_count": 18,
   "id": "91f22d9d-4b9b-4c74-a15e-de37d9ca28d0",
   "metadata": {},
   "outputs": [
    {
     "data": {
      "text/plain": [
       "'s'"
      ]
     },
     "execution_count": 18,
     "metadata": {},
     "output_type": "execute_result"
    }
   ],
   "source": [
    "s[2:3:1]"
   ]
  },
  {
   "cell_type": "code",
   "execution_count": 20,
   "id": "fed58d8f-15bf-400e-b5b8-c478d23b0a07",
   "metadata": {},
   "outputs": [
    {
     "data": {
      "text/plain": [
       "'w'"
      ]
     },
     "execution_count": 20,
     "metadata": {},
     "output_type": "execute_result"
    }
   ],
   "source": [
    "s[1:-8:-1]"
   ]
  },
  {
   "cell_type": "code",
   "execution_count": 21,
   "id": "f25767f5-8da6-4ff0-8e6f-a5e53a75c877",
   "metadata": {},
   "outputs": [
    {
     "data": {
      "text/plain": [
       "''"
      ]
     },
     "execution_count": 21,
     "metadata": {},
     "output_type": "execute_result"
    }
   ],
   "source": [
    "s[0:-8:1]"
   ]
  },
  {
   "cell_type": "code",
   "execution_count": 22,
   "id": "04e173e4-e853-4110-bea5-73610d611658",
   "metadata": {},
   "outputs": [
    {
     "data": {
      "text/plain": [
       "''"
      ]
     },
     "execution_count": 22,
     "metadata": {},
     "output_type": "execute_result"
    }
   ],
   "source": [
    "s[1:-8:1]"
   ]
  },
  {
   "cell_type": "code",
   "execution_count": null,
   "id": "0fcfe602-7a41-4e11-80c5-4c3d375da1bd",
   "metadata": {},
   "outputs": [],
   "source": []
  }
 ],
 "metadata": {
  "kernelspec": {
   "display_name": "Python 3 (ipykernel)",
   "language": "python",
   "name": "python3"
  },
  "language_info": {
   "codemirror_mode": {
    "name": "ipython",
    "version": 3
   },
   "file_extension": ".py",
   "mimetype": "text/x-python",
   "name": "python",
   "nbconvert_exporter": "python",
   "pygments_lexer": "ipython3",
   "version": "3.10.8"
  }
 },
 "nbformat": 4,
 "nbformat_minor": 5
}
